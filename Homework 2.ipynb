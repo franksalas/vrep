{
 "cells": [
  {
   "cell_type": "code",
   "execution_count": 1,
   "metadata": {
    "collapsed": true
   },
   "outputs": [],
   "source": [
    "import numpy as np"
   ]
  },
  {
   "cell_type": "markdown",
   "metadata": {},
   "source": [
    "1. Vectors **A** and **B** are given by  `A = (2 -3) B = (-4 2)` Find the dot product **A B** of the two vectors\n",
    "\n",
    "\n",
    "<p></p>\n",
    "$$A = \\left[ \\begin{array}{c} 2 \\\\ -3 \\\\ \\end{array} \\right]  $$ \n",
    "<p></p>\n",
    "<p></p>\n",
    "$$B = \\left[ \\begin{array}{c} -4\\\\ 2 \\\\ \\end{array} \\right]  $$ \n",
    "<p></p>\n",
    "\n",
    "<p></p>\n",
    "$$\\left[ \\begin{array}{ccc} 2 \\\\ -3 \\\\ \\end{array} \\right]\\left[ \\begin{array}{c} a \\\\ b \\\\ \\end{array} \\right] = \\left[ \\begin{array}{c} 35 \\\\ 94 \\\\ \\end{array} \\right] $$ \n",
    "<p></p>"
   ]
  },
  {
   "cell_type": "code",
   "execution_count": 11,
   "metadata": {
    "collapsed": false
   },
   "outputs": [
    {
     "data": {
      "text/plain": [
       "-14"
      ]
     },
     "execution_count": 11,
     "metadata": {},
     "output_type": "execute_result"
    }
   ],
   "source": [
    "A = np.array([2,-3])\n",
    "B = np.array([-4,2])\n",
    "np.dot(A,B)"
   ]
  },
  {
   "cell_type": "code",
   "execution_count": 12,
   "metadata": {
    "collapsed": false
   },
   "outputs": [
    {
     "data": {
      "text/plain": [
       "-14"
      ]
     },
     "execution_count": 12,
     "metadata": {},
     "output_type": "execute_result"
    }
   ],
   "source": [
    "np.inner(A,B)"
   ]
  },
  {
   "cell_type": "markdown",
   "metadata": {},
   "source": [
    "2.Determine if the folowing vectors are **orthogonal:** `A = (6 2 -1) B= (2 -7 -2)`\n",
    "- two vectors are _orthogonal_ if their dot product is 0"
   ]
  },
  {
   "cell_type": "code",
   "execution_count": 13,
   "metadata": {
    "collapsed": false
   },
   "outputs": [
    {
     "data": {
      "text/plain": [
       "0"
      ]
     },
     "execution_count": 13,
     "metadata": {},
     "output_type": "execute_result"
    }
   ],
   "source": [
    "A = np.array([6,2,-1])\n",
    "B = np.array([2,-7,-2])\n",
    "np.dot(A,B)"
   ]
  },
  {
   "cell_type": "markdown",
   "metadata": {},
   "source": [
    "3.The cross product of the vectors `A = (3 2 -2) B = (1 0 -5)`"
   ]
  },
  {
   "cell_type": "code",
   "execution_count": 2,
   "metadata": {
    "collapsed": false
   },
   "outputs": [
    {
     "data": {
      "text/plain": [
       "array([-10,  13,  -2])"
      ]
     },
     "execution_count": 2,
     "metadata": {},
     "output_type": "execute_result"
    }
   ],
   "source": [
    "A = [3,2,-2]\n",
    "B = [1,0,-5]\n",
    "np.cross(A,B)"
   ]
  },
  {
   "cell_type": "markdown",
   "metadata": {},
   "source": [
    "4.Suppose the charactes\"8\" and \"∞\" ar both symmetric in the particular font(figure 1), there are four diffrent transformations that can transfor tfrom figure 1(a) to 1(b). compute these transformations"
   ]
  },
  {
   "cell_type": "code",
   "execution_count": null,
   "metadata": {
    "collapsed": true
   },
   "outputs": [],
   "source": []
  }
 ],
 "metadata": {
  "kernelspec": {
   "display_name": "vrep-Py3",
   "language": "python",
   "name": "vrep"
  },
  "language_info": {
   "codemirror_mode": {
    "name": "ipython",
    "version": 3
   },
   "file_extension": ".py",
   "mimetype": "text/x-python",
   "name": "python",
   "nbconvert_exporter": "python",
   "pygments_lexer": "ipython3",
   "version": "3.5.0"
  }
 },
 "nbformat": 4,
 "nbformat_minor": 1
}
