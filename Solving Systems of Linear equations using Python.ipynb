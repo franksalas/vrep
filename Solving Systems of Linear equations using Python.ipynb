{
 "cells": [
  {
   "cell_type": "markdown",
   "metadata": {},
   "source": [
    "### <center> Solving System of Linear Equations using Python (numpy) </center> \n",
    "\n",
    "<center> 1a + 1b = 35 </center> \n",
    "<center> 2a + 4b = 94</center> \n",
    "<p> </p> \n",
    "\n",
    "$$A = \\left[ \\begin{array}{ccc} 1 & 1 \\\\ 2 & 4 \\\\ \\end{array} \\right]$$ \n",
    "<p></p>\n",
    "$$X = \\left[ \\begin{array}{c} a \\\\ b \\\\ \\end{array} \\right]  $$ \n",
    "<p></p>\n",
    "$$B = \\left[ \\begin{array}{c} 35 \\\\ 94 \\\\ \\end{array} \\right]$$\n",
    "<p></p>\n",
    "$$\\left[ \\begin{array}{ccc} 1 & 1 \\\\ 2 & 4 \\\\ \\end{array} \\right]\\left[ \\begin{array}{c} a \\\\ b \\\\ \\end{array} \\right] = \\left[ \\begin{array}{c} 35 \\\\ 94 \\\\ \\end{array} \\right] $$ \n",
    "<p></p>\n",
    "<center> A**X** = B </center>\n",
    "<p> </p>\n",
    "<center> A<sup>-1 </sup>A**X** = A<sup>-1</sup>B  </center>\n",
    "<p> </p>\n",
    "\n",
    "<center>**X** = A<sup>-1</sup>B </center>"
   ]
  },
  {
   "cell_type": "code",
   "execution_count": 5,
   "metadata": {
    "collapsed": false
   },
   "outputs": [],
   "source": [
    "import numpy as np\n",
    "# define matrices\n",
    "\n",
    "A = np.matrix([[1,1],[2,4]])\n",
    "B = np.matrix([[35],[94]])\n",
    "# find the inverse of A\n",
    "A_inverse = np.linalg.inv(A)\n",
    "# solution\n",
    "\n",
    "X = A_inverse * B"
   ]
  },
  {
   "cell_type": "code",
   "execution_count": 6,
   "metadata": {
    "collapsed": false
   },
   "outputs": [
    {
     "data": {
      "text/plain": [
       "matrix([[ 23.],\n",
       "        [ 12.]])"
      ]
     },
     "execution_count": 6,
     "metadata": {},
     "output_type": "execute_result"
    }
   ],
   "source": [
    "X"
   ]
  },
  {
   "cell_type": "markdown",
   "metadata": {},
   "source": [
    "\n",
    "$$\\left[ \\begin{array}{ccc} 1 & c \\\\ 0 & 1 \\\\ \\end{array} \\right]\\left[ \\begin{array}{c} x \\\\ y \\\\ \\end{array} \\right] = \\left[ \\begin{array}{c} x+ cy \\\\ y \\\\ \\end{array} \\right] $$ \n",
    "<p></p> Shearing"
   ]
  },
  {
   "cell_type": "markdown",
   "metadata": {},
   "source": [
    "$$\\left[ \\begin{array}{ccc} 1 & c \\\\ 0 & 1 \\\\ \\end{array} \\right]\\left[ \\begin{array}{c} x \\\\ y \\\\ \\end{array} \\right] = \\left[ \\begin{array}{c} x+ cy \\\\ y \\\\ \\end{array} \\right] $$"
   ]
  },
  {
   "cell_type": "code",
   "execution_count": null,
   "metadata": {
    "collapsed": true
   },
   "outputs": [],
   "source": []
  }
 ],
 "metadata": {
  "kernelspec": {
   "display_name": "vrep-Py3",
   "language": "python",
   "name": "vrep"
  },
  "language_info": {
   "codemirror_mode": {
    "name": "ipython",
    "version": 3
   },
   "file_extension": ".py",
   "mimetype": "text/x-python",
   "name": "python",
   "nbconvert_exporter": "python",
   "pygments_lexer": "ipython3",
   "version": "3.5.0"
  }
 },
 "nbformat": 4,
 "nbformat_minor": 1
}
